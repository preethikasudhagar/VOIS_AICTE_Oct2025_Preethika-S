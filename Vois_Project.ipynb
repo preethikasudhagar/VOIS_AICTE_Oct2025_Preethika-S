{
  "nbformat": 4,
  "nbformat_minor": 0,
  "metadata": {
    "colab": {
      "private_outputs": true,
      "provenance": []
    },
    "kernelspec": {
      "name": "python3",
      "display_name": "Python 3"
    },
    "language_info": {
      "name": "python"
    }
  },
  "cells": [
    {
      "cell_type": "code",
      "execution_count": null,
      "metadata": {
        "id": "K08vtBfvSQT3"
      },
      "outputs": [],
      "source": [
        "import pandas as pd\n",
        "import numpy as np\n",
        "import matplotlib.pyplot as plt\n",
        "import seaborn as sns\n",
        "\n",
        "sns.set(style=\"whitegrid\")\n",
        "plt.rcParams['figure.figsize'] = (10,6)\n"
      ]
    },
    {
      "cell_type": "code",
      "source": [
        "file_path = '/content/1730285881-Airbnb_Open_Data.xlsx'\n",
        "df = pd.read_excel(file_path)\n",
        "\n",
        "print(\"🔹 Dataset Preview:\")\n",
        "display(df.head())\n",
        "\n",
        "print(\"\\n🔹 Dataset Information:\")\n",
        "print(df.info())\n",
        "\n",
        "print(\"\\n🔹 Missing Values:\")\n",
        "print(df.isnull().sum())\n"
      ],
      "metadata": {
        "id": "rI_51emVVQqN"
      },
      "execution_count": null,
      "outputs": []
    },
    {
      "cell_type": "code",
      "source": [
        "import pandas as pd\n",
        "import matplotlib.pyplot as plt\n",
        "import seaborn as sns\n",
        "\n",
        "sns.set(style=\"whitegrid\")\n",
        "plt.rcParams['figure.figsize'] = (10,6)\n",
        "\n",
        "\n",
        "review_col = None\n",
        "avail_col = None\n",
        "\n",
        "for col in df.columns:\n",
        "    c = col.lower()\n",
        "    if 'review' in c and 'date' not in c:\n",
        "        review_col = col\n",
        "    elif 'availability' in c or 'available' in c:\n",
        "        avail_col = col\n",
        "\n",
        "\n",
        "if review_col:\n",
        "    df[review_col] = pd.to_datetime(df[review_col], errors='coerce')\n",
        "    df['month'] = df[review_col].dt.month\n",
        "    monthly_bookings = df['month'].value_counts().sort_index()\n",
        "\n",
        "    plt.figure()\n",
        "    sns.barplot(x=monthly_bookings.index, y=monthly_bookings.values, color='skyblue')\n",
        "    plt.title('Bookings by Month')\n",
        "    plt.xlabel('Month')\n",
        "    plt.ylabel('Number of Bookings')\n",
        "    plt.show()\n",
        "\n",
        "if avail_col:\n",
        "    sns.histplot(df[avail_col], bins=30, kde=True, color='orange')\n",
        "    plt.title('Distribution of Booking Lead Time (Availability Days)')\n",
        "    plt.xlabel('Days Available in a Year')\n",
        "    plt.ylabel('Frequency')\n",
        "    plt.show()\n"
      ],
      "metadata": {
        "id": "OsEYcPjIVdjV"
      },
      "execution_count": null,
      "outputs": []
    },
    {
      "cell_type": "code",
      "source": [
        "print(\"\\n💰 PRICING STRATEGIES ANALYSIS\")\n",
        "\n",
        "# Try to find matching column names dynamically\n",
        "price_col = None\n",
        "room_col = None\n",
        "neigh_col = None\n",
        "\n",
        "for col in df.columns:\n",
        "    col_lower = col.lower()\n",
        "    if 'price' in col_lower:\n",
        "        price_col = col\n",
        "    elif 'room' in col_lower and 'type' in col_lower:\n",
        "        room_col = col\n",
        "    elif 'neighbourhood' in col_lower or 'location' in col_lower or 'area' in col_lower:\n",
        "        neigh_col = col\n",
        "\n",
        "if price_col:\n",
        "    df[price_col] = pd.to_numeric(df[price_col], errors='coerce')\n",
        "\n",
        "\n",
        "if price_col and room_col:\n",
        "    sns.boxplot(x=room_col, y=price_col, data=df)\n",
        "    plt.title('Price Distribution by Room Type')\n",
        "    plt.xlabel('Room Type')\n",
        "    plt.ylabel('Price')\n",
        "    plt.show()\n",
        "else:\n",
        "    print(\"⚠️ Missing 'room_type' or 'price' column in dataset.\")\n",
        "\n",
        "\n",
        "if price_col and neigh_col:\n",
        "    avg_price = df.groupby(neigh_col)[price_col].mean().sort_values(ascending=False)\n",
        "    avg_price.plot(kind='bar', color='orange')\n",
        "    plt.title('Average Price by Location/Neighbourhood')\n",
        "    plt.ylabel('Average Price')\n",
        "    plt.xlabel('Location')\n",
        "    plt.show()\n",
        "else:\n",
        "    print(\"⚠️ 'neighbourhood_group' or equivalent column not found.\")\n"
      ],
      "metadata": {
        "id": "YkLu-NafVjxu"
      },
      "execution_count": null,
      "outputs": []
    },
    {
      "cell_type": "code",
      "source": [
        "import pandas as pd\n",
        "import matplotlib.pyplot as plt\n",
        "import seaborn as sns\n",
        "\n",
        "sns.set(style=\"whitegrid\")\n",
        "plt.rcParams['figure.figsize'] = (10,6)\n",
        "\n",
        "\n",
        "room_col = None\n",
        "night_col = None\n",
        "\n",
        "for col in df.columns:\n",
        "    c = col.lower()\n",
        "    if 'room' in c and 'type' in c:\n",
        "        room_col = col\n",
        "    elif 'minimum' in c and 'night' in c:\n",
        "        night_col = col\n",
        "\n",
        "\n",
        "if room_col:\n",
        "    room_pref = df[room_col].value_counts()\n",
        "    plt.figure()\n",
        "    room_pref.plot(kind='pie', autopct='%1.1f%%', startangle=90, colors=sns.color_palette('pastel'))\n",
        "    plt.title('Guest Room Type Preferences')\n",
        "    plt.ylabel('')\n",
        "    plt.show()\n",
        "\n",
        "\n",
        "if night_col:\n",
        "    plt.figure()\n",
        "    sns.histplot(df[night_col], bins=30, color='green', kde=True)\n",
        "    plt.title('Distribution of Minimum Nights Booked')\n",
        "    plt.xlabel('Minimum Nights')\n",
        "    plt.ylabel('Frequency')\n",
        "    plt.show()\n"
      ],
      "metadata": {
        "id": "27I01KrkV_-O"
      },
      "execution_count": null,
      "outputs": []
    },
    {
      "cell_type": "code",
      "source": [
        "print(\"\\n📈 SUMMARY INSIGHTS\")\n",
        "\n",
        "if 'price' in df.columns:\n",
        "    avg_price = df['price'].mean()\n",
        "    print(f\"✅ Average Price: ${avg_price:.2f}\")\n",
        "\n",
        "if 'room_type' in df.columns:\n",
        "    top_room = df['room_type'].value_counts().idxmax()\n",
        "    print(f\"✅ Most Preferred Room Type: {top_room}\")\n",
        "\n",
        "if 'neighbourhood_group' in df.columns:\n",
        "    top_area = df['neighbourhood_group'].value_counts().idxmax()\n",
        "    print(f\"✅ Most Popular Area: {top_area}\")\n",
        "\n",
        "if 'reviews_per_month' in df.columns:\n",
        "    avg_reviews = df['reviews_per_month'].mean()\n",
        "    print(f\"✅ Average Reviews per Month: {avg_reviews:.2f}\")\n",
        "\n",
        "if 'availability_365' in df.columns:\n",
        "    avg_availability = df['availability_365'].mean()\n",
        "    print(f\"✅ Average Availability (days/year): {avg_availability:.1f}\")\n",
        "\n"
      ],
      "metadata": {
        "id": "rO6_z0IbWEsd"
      },
      "execution_count": null,
      "outputs": []
    }
  ]
}